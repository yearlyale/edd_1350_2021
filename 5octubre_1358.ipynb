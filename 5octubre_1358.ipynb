{
  "nbformat": 4,
  "nbformat_minor": 0,
  "metadata": {
    "colab": {
      "name": "5octubre_1358.ipynb",
      "provenance": [],
      "private_outputs": true,
      "authorship_tag": "ABX9TyOrDBRotvbY++in1tvB1utg",
      "include_colab_link": true
    },
    "kernelspec": {
      "name": "python3",
      "display_name": "Python 3"
    }
  },
  "cells": [
    {
      "cell_type": "markdown",
      "metadata": {
        "id": "view-in-github",
        "colab_type": "text"
      },
      "source": [
        "<a href=\"https://colab.research.google.com/github/yearlyale/edd_1350_2021/blob/master/5octubre_1358.ipynb\" target=\"_parent\"><img src=\"https://colab.research.google.com/assets/colab-badge.svg\" alt=\"Open In Colab\"/></a>"
      ]
    },
    {
      "cell_type": "code",
      "metadata": {
        "id": "0_EbitX6TTRy"
      },
      "source": [
        "precio=12.5\n",
        "cantidad=2\n",
        "existencia = True\n",
        "\n",
        "# precio de los chetos es $12.5 y quiero 2, hay?: True\n",
        "\n",
        "print('precio de los chetos es $',precio,\"y quiero\",cantidad,\", hay?\",existencia)\n",
        "\n",
        "# format () de la clase str\n",
        "\n",
        "print(\"precio de los chatos es {0} y quiero {1} , hay?: {2}\".format(precio,cantidad,existencia))\n",
        "print(\"precio de los chatos es {2} y quiero {1} , hay?: {0}\".format(precio,cantidad,existencia))\n",
        "\n",
        "# operador f\"\"\n",
        "\n",
        "print( f\"precio de los chetos es { precio } y quiero { cantidad } , hay? { existencia }\" )"
      ],
      "execution_count": null,
      "outputs": []
    },
    {
      "cell_type": "markdown",
      "metadata": {
        "id": "7wZseXS8YMef"
      },
      "source": [
        "# Listas \n",
        "Declaracion [ ]\n",
        "\n",
        "Selector [ ]\n",
        "\n",
        "mutabale\n",
        "# Tuplas\n",
        "Declaracion { }\n",
        "\n",
        "Selector [ ] \n",
        "\n",
        "No mutable\n",
        "# Diccionarios\n",
        "Conjunto de datos en pares de llave: valor\n",
        "\n",
        "Son mutables\n",
        "\n",
        "Equivalentes a JSON.\n",
        "\n",
        "\n",
        "# Conjuntos\n",
        "Grupo de elementos con la teoria de conjuntos operacionales de conjuntos"
      ]
    },
    {
      "cell_type": "code",
      "metadata": {
        "id": "ePyWsGsHZdhj"
      },
      "source": [
        "# Listas\n",
        "materias = [\"CyP\",\"DDA\",\"EDD\",\"IS\",\"POO\"]\n",
        "print(materias)\n",
        "\n",
        "print( materias [2] )\n",
        "\n",
        "print( materias [-1] )\n",
        "\n",
        "print( materias [4] )\n",
        "\n",
        "print(materias [::-1])\n",
        "\n",
        "# crear una lista a partir de un string\n",
        "\n",
        "fecha = \"05/octubre/2020\"\n",
        "lista_fecha = fecha.split(\"/\")\n",
        "print(lista_fecha)\n",
        "\n",
        "# crear un string a partir de una lista\n",
        "\n",
        "lista_hora = [\"15\",\"22\",\"45\"]\n",
        "hora = \":\".join(lista_hora)\n",
        "print(hora)\n",
        "\n",
        "print(\"---------------------------------\")\n",
        "\n",
        "print(materias)\n",
        "print(lista_fecha)\n",
        "print(lista_hora)\n",
        "\n",
        "materias[0] = \"Computadoras y programacion\"\n",
        "print(materias)\n",
        "\n",
        "# agregar\n",
        "materias.append(\"Calidad\")\n",
        "print(materias)\n",
        "materias.insert(2,\"Emprendimiento\")\n",
        "print(materias)\n",
        "\n",
        "materia = materias.pop()\n",
        "print(materia)\n",
        "print(materias)\n",
        "materia = materias.pop(1)\n",
        "print(materia)\n",
        "print(materias)\n",
        "\n",
        "# Vaciar una lista\n",
        "materias.clear()\n",
        "print(materias)\n",
        "\n",
        "# slicing [::]\n",
        "print(\"Slicing\")\n",
        "numeros = [0,1,2,3,4,5,6,7,8,9,10]\n",
        "print(numeros)\n",
        "print(numeros[4:9:1])\n",
        "\n",
        "# sustituir un segmeto con Slicing [0,1,2,3, -2 ,9,10]\n",
        "numeros[4:9:1] = [ -2 ]\n",
        "print(numeros)"
      ],
      "execution_count": null,
      "outputs": []
    },
    {
      "cell_type": "code",
      "metadata": {
        "id": "wQ0W_ZK4h5ye"
      },
      "source": [
        "autos = [\"Mazda\",\"Honda\",\"Äkura\",\"Ford\",\"vw\"]\n",
        "telefonos = [\"Iphone\",\"Huawei Mate 30\",\"Xiaomi S10\",\"Alcatel t1000\"]\n",
        "sistemas_operativos = [\"Windows\",\"Linux\",\"Android\",\"iOS\",\"MacOs\"]\n",
        "\n",
        "lista_2d = [autos,telefonos,sistemas_operativos]\n",
        "print(lista_2d)"
      ],
      "execution_count": null,
      "outputs": []
    }
  ]
}