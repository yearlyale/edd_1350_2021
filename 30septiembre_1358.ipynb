{
  "nbformat": 4,
  "nbformat_minor": 0,
  "metadata": {
    "colab": {
      "name": "30septiembre_1358.ipynb",
      "provenance": [],
      "authorship_tag": "ABX9TyMFwHv2kCN+uPrSJEdL7bJ9",
      "include_colab_link": true
    },
    "kernelspec": {
      "name": "python3",
      "display_name": "Python 3"
    }
  },
  "cells": [
    {
      "cell_type": "markdown",
      "metadata": {
        "id": "view-in-github",
        "colab_type": "text"
      },
      "source": [
        "<a href=\"https://colab.research.google.com/github/yearlyale/edd_1350_2021/blob/master/30septiembre_1358.ipynb\" target=\"_parent\"><img src=\"https://colab.research.google.com/assets/colab-badge.svg\" alt=\"Open In Colab\"/></a>"
      ]
    },
    {
      "cell_type": "markdown",
      "metadata": {
        "id": "7enfXOC3wDkL"
      },
      "source": [
        "#fundamentos de python 3\n",
        "### tipos de datos basicos\n",
        "edad = 13\n",
        "nombre = \"José\"\n",
        "estatura = 1.67\n",
        "tiene_ine = true\n",
        "\n",
        "### compuestos\n",
        "\n",
        "#### Listas\n",
        "Son mutables\n",
        "Se accede a los elementos via el indice\n",
        "lista_ejemplo = [\"Manzana\", 1.57 , True , [\"Rojo\", \"Azul\"] ]\n",
        "\n",
        "#### Tuplas\n",
        "Son inmutables\n",
        "Se accede a los elementos via el indice\n",
        "los elementos pueden ser de diferente tipo \n",
        "\n",
        "tupla_ejemplo = (\"root\", \"123.322.45.4\", \"1234dios\")\n",
        "#### Diccionarios\n",
        "Son equivalentes a los JSON de JSON\n",
        "\n",
        "#### Sets\n",
        "Son datos agrupados"
      ]
    },
    {
      "cell_type": "code",
      "metadata": {
        "id": "cPpQjejlwOd2"
      },
      "source": [
        "lista_ejemplo = [\"Manzana\", 1.57 , True, [\"rojo\", \"azul\"] ]\n",
        "print(lista_ejemplo[1] )\n",
        "print(lista_ejemplo[3] )\n",
        "print(lista_ejemplo[3][1] )\n",
        "lista_ejemplo[0]=\"Manzana\"\n",
        "print(lista_ejemplo)\n",
        "lista_ejemplo.append(\"Iphone\")\n",
        "print(lista_ejemplo)\n",
        "\n",
        "#Sacar el último ejemplo\n",
        "valor = lista_ejemplo.pop()\n",
        "print(valor)\n",
        "print(lista_ejemplo)\n",
        "\n",
        "#documentación del tipo de dato lista dir() y help()\n",
        "print(\"-------\")\n",
        "\n",
        "lista_ejemplo.insert(1, 'Huawei')\n",
        "print(lista_ejemplo)\n",
        "\n",
        "conteo = lista_ejemplo.count(\"Huawei\")\n",
        "print(conteo)"
      ],
      "execution_count": null,
      "outputs": []
    }
  ]
}