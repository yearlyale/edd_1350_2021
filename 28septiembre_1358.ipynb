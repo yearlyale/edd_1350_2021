{
  "nbformat": 4,
  "nbformat_minor": 0,
  "metadata": {
    "colab": {
      "name": "28septiembre_1358.ipynb",
      "provenance": [],
      "authorship_tag": "ABX9TyP3F5ARB1y9a1M5jLCK1e+q",
      "include_colab_link": true
    },
    "kernelspec": {
      "name": "python3",
      "display_name": "Python 3"
    }
  },
  "cells": [
    {
      "cell_type": "markdown",
      "metadata": {
        "id": "view-in-github",
        "colab_type": "text"
      },
      "source": [
        "<a href=\"https://colab.research.google.com/github/yearlyale/edd_1350_2021/blob/master/28septiembre_1358.ipynb\" target=\"_parent\"><img src=\"https://colab.research.google.com/assets/colab-badge.svg\" alt=\"Open In Colab\"/></a>"
      ]
    },
    {
      "cell_type": "code",
      "metadata": {
        "id": "oejlLI65oPpI"
      },
      "source": [
        "print(\"hola ColabResearch\") \n",
        "nombre=\"Alejandro\"\n",
        "print(nombre)\n",
        "# Hola, esto es un ecabezado\n",
        "##encabezado nivel 2\n",
        "###sintaxis markdown\n",
        "* elem 1\n",
        "* elem 2\n",
        "* elem 3\n",
        "1. Fresa\n",
        "1. Manzana\n",
        "1. Pera\n",
        "esto es un texto largo y quiero poner letras negritas y tambien quiero poner italica"
      ],
      "execution_count": null,
      "outputs": []
    },
    {
      "cell_type": "code",
      "metadata": {
        "id": "uo6-1ROIjhsG"
      },
      "source": [
        "class Silla():\n",
        "  def init( self ):\n",
        "    self.material = \"\"\n",
        "    self.color = \"\"\n",
        "\n",
        "    def to_string( self ):\n",
        "      print ( \"-------\" )\n",
        "      print ( f\" Material: { self.material } \" )\n",
        "      printf( f\" {self.color} -------\" )"
      ],
      "execution_count": 8,
      "outputs": []
    },
    {
      "cell_type": "code",
      "metadata": {
        "id": "dKSWpxPNmsa2",
        "outputId": "e8d3463b-d733-47e4-d416-6630a23a633f",
        "colab": {
          "base_uri": "https://localhost:8080/",
          "height": 197
        }
      },
      "source": [
        "obj=Silla ()\n",
        "obj.material = \"Madera\"\n",
        "obj.color = \"Azul\"\n",
        "obj.to_string()     "
      ],
      "execution_count": 9,
      "outputs": [
        {
          "output_type": "error",
          "ename": "AttributeError",
          "evalue": "ignored",
          "traceback": [
            "\u001b[0;31m---------------------------------------------------------------------------\u001b[0m",
            "\u001b[0;31mAttributeError\u001b[0m                            Traceback (most recent call last)",
            "\u001b[0;32m<ipython-input-9-356544a3a29e>\u001b[0m in \u001b[0;36m<module>\u001b[0;34m()\u001b[0m\n\u001b[1;32m      2\u001b[0m \u001b[0mobj\u001b[0m\u001b[0;34m.\u001b[0m\u001b[0mmaterial\u001b[0m \u001b[0;34m=\u001b[0m \u001b[0;34m\"Madera\"\u001b[0m\u001b[0;34m\u001b[0m\u001b[0;34m\u001b[0m\u001b[0m\n\u001b[1;32m      3\u001b[0m \u001b[0mobj\u001b[0m\u001b[0;34m.\u001b[0m\u001b[0mcolor\u001b[0m \u001b[0;34m=\u001b[0m \u001b[0;34m\"Azul\"\u001b[0m\u001b[0;34m\u001b[0m\u001b[0;34m\u001b[0m\u001b[0m\n\u001b[0;32m----> 4\u001b[0;31m \u001b[0mobj\u001b[0m\u001b[0;34m.\u001b[0m\u001b[0mto_string\u001b[0m\u001b[0;34m(\u001b[0m\u001b[0;34m)\u001b[0m\u001b[0;34m\u001b[0m\u001b[0;34m\u001b[0m\u001b[0m\n\u001b[0m",
            "\u001b[0;31mAttributeError\u001b[0m: 'Silla' object has no attribute 'to_string'"
          ]
        }
      ]
    }
  ]
}