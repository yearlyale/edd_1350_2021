{
  "nbformat": 4,
  "nbformat_minor": 0,
  "metadata": {
    "colab": {
      "name": "11_ene_1358.ipynb",
      "private_outputs": true,
      "provenance": [],
      "authorship_tag": "ABX9TyOuu0ok/mFvFdTdKi0JfAkm",
      "include_colab_link": true
    },
    "kernelspec": {
      "name": "python3",
      "display_name": "Python 3"
    }
  },
  "cells": [
    {
      "cell_type": "markdown",
      "metadata": {
        "id": "view-in-github",
        "colab_type": "text"
      },
      "source": [
        "<a href=\"https://colab.research.google.com/github/yearlyale/edd_1350_2021/blob/master/11_ene_1358.ipynb\" target=\"_parent\"><img src=\"https://colab.research.google.com/assets/colab-badge.svg\" alt=\"Open In Colab\"/></a>"
      ]
    },
    {
      "cell_type": "code",
      "metadata": {
        "id": "jg9jx71FOTVq"
      },
      "source": [
        "class NodoArbol:\r\n",
        "    def __init__( self , dato , hijo_izq=None , hijo_der=None , hijo_cen=None ):\r\n",
        "        self.dato = dato\r\n",
        "        self.hijo_izq = hijo_izq\r\n",
        "        self.hijo_der = hijo_der\r\n"
      ],
      "execution_count": null,
      "outputs": []
    },
    {
      "cell_type": "code",
      "metadata": {
        "id": "QNScs6olPPSP"
      },
      "source": [
        "arbol = NodoArbol(\"R\")\r\n",
        "arbol.hijo_izq = NodoArbol(\"C\")\r\n",
        "arbol.hijo_der = NodoArbol(\"H\")\r\n",
        "#como imprimo el nodo raiz????\r\n",
        "print(arbol.dato)\r\n",
        "#como imprimo el hijo izq????\r\n",
        "print(arbol.hijo_izq.dato)\r\n",
        "#como imprimo el hijo der????\r\n",
        "print(arbol.hijo_der.dato)"
      ],
      "execution_count": null,
      "outputs": []
    },
    {
      "cell_type": "code",
      "metadata": {
        "id": "TTJPQa2-Sz2W"
      },
      "source": [
        "arbol_v2 = NodoArbol(\"R\", NodoArbol(\"C\") , NodoArbol(\"H\") )\r\n",
        "print(arbol_v2.dato)\r\n",
        "print(arbol_v2.hijo_izq.dato)\r\n",
        "print(arbol_v2.hijo_der.dato)"
      ],
      "execution_count": null,
      "outputs": []
    },
    {
      "cell_type": "code",
      "metadata": {
        "id": "PvQ20ZZyT1ui"
      },
      "source": [
        "arbol = NodoArbol('R',NodoArbol('C',NodoArbol('F',NodoArbol('O'))),NodoArbol('H'))\t\t\r\n",
        "\r\n",
        "print(arbol.dato)\t\r\n",
        "print(arbol.hijo_izq.dato)\t\r\n",
        "print(arbol.hijo_der.dato)\t\r\n",
        "print(arbol.hijo_izq.hijo_izq.dato)\t\r\n",
        "print(arbol.hijo_izq.hijo_izq.hijo_izq.dato)"
      ],
      "execution_count": null,
      "outputs": []
    },
    {
      "cell_type": "code",
      "metadata": {
        "id": "9xwvisPiUp9z"
      },
      "source": [
        "#ejercicio 2\r\n",
        "arbol2 = NodoArbol(\"4\", NodoArbol(\"3\", NodoArbol(\"2\", NodoArbol(\"2\"))), NodoArbol(\"5\"))\r\n",
        "print(arbol2.dato)\r\n",
        "print(arbol2.hijo_izq.dato)\r\n",
        "print(arbol2.hijo_der.dato)\r\n",
        "print(arbol2.hijo_izq.hijo_izq.dato)\r\n",
        "print(arbol2.hijo_izq.hijo_izq.hijo_izq.dato)"
      ],
      "execution_count": null,
      "outputs": []
    },
    {
      "cell_type": "code",
      "metadata": {
        "id": "NNcOt2ZRX1in"
      },
      "source": [
        "arbol2 = NodoArbol(4,NodoArbol(3, NodoArbol(2, NodoArbol(2))), NodoArbol(5))\r\n",
        "print( arbol2.hijo_izq.hijo_izq)"
      ],
      "execution_count": null,
      "outputs": []
    },
    {
      "cell_type": "code",
      "metadata": {
        "id": "PffUJ6mMZ_Md"
      },
      "source": [
        "#Ejercicio 4\r\n",
        "arbol3 = NodoArbol(\"R\",NodoArbol(\"I\", None, NodoArbol(\"X\")), NodoArbol(\"C\", NodoArbol(\"Y\")), NodoArbol(\"D\", None, None, NodoArbol(\"Z\") ))\r\n",
        "print(arbol3.dato)\r\n",
        "print(arbol3.hijo_izq.dato)\r\n",
        "print(arbol3.hijo_izq.hijo_cen.dato)\r\n",
        "print(arbol3.hijo_cen.dato)\r\n",
        "print(arbol3.hijo_cen.hijo_izq.dato)\r\n",
        "print(arbol3.hijo_der.dato)\r\n",
        "print(arbol3.hijo_der.hijo_der.dato)"
      ],
      "execution_count": null,
      "outputs": []
    }
  ]
}