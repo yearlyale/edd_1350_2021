{
  "nbformat": 4,
  "nbformat_minor": 0,
  "metadata": {
    "colab": {
      "name": "30noviembre_1358.ipynb",
      "private_outputs": true,
      "provenance": [],
      "authorship_tag": "ABX9TyM3a2s5d5uWYbioirSBkv19",
      "include_colab_link": true
    },
    "kernelspec": {
      "name": "python3",
      "display_name": "Python 3"
    }
  },
  "cells": [
    {
      "cell_type": "markdown",
      "metadata": {
        "id": "view-in-github",
        "colab_type": "text"
      },
      "source": [
        "<a href=\"https://colab.research.google.com/github/yearlyale/edd_1350_2021/blob/master/30noviembre_1358.ipynb\" target=\"_parent\"><img src=\"https://colab.research.google.com/assets/colab-badge.svg\" alt=\"Open In Colab\"/></a>"
      ]
    },
    {
      "cell_type": "code",
      "metadata": {
        "id": "Yc8c7WWf8kyZ"
      },
      "source": [
        "class Stack:\n",
        "    def __init__( self ):\n",
        "        self.__data = []\n",
        "        self.__size = 0\n",
        "\n",
        "    def pop( self ):\n",
        "        return self.__data.pop()\n",
        "\n",
        "    def peek( self ):\n",
        "        return self.__data[-1]\n",
        "\n",
        "    def push(self , value ):\n",
        "        self.__data.append(value)\n",
        "\n",
        "    def to_string( self ):\n",
        "        print(\"----\")\n",
        "        for dato in self.__data[::-1]:\n",
        "            print(f\"| {dato} |\")\n",
        "            print(\"-------\")"
      ],
      "execution_count": null,
      "outputs": []
    },
    {
      "cell_type": "code",
      "metadata": {
        "id": "Y7BksJsJABtP"
      },
      "source": [
        "pl = Stack()\n",
        "pl.push(34)\n",
        "pl.push(10)\n",
        "pl.push(45)\n",
        "pl.push(4)\n",
        "pl.push(23)\n",
        "pl.push(33)\n",
        "valor = pl.pop()\n",
        "print( valor *2 )\n",
        "pl.to_string()\n",
        "valor = pl.peek()\n",
        "print( valor * 2 )\n",
        "pl.to_string()\n"
      ],
      "execution_count": null,
      "outputs": []
    },
    {
      "cell_type": "code",
      "metadata": {
        "id": "Ape1oZskB2b6"
      },
      "source": [
        "#aplicacion de la estructura stack\n",
        "#validacion de parentesis balanceados\n",
        "\n",
        "cadena =\"b=3*(5+(4/2))\"\n",
        "pila = Stack()\n",
        "pila.push(\"#\") #caracter de pila vacia\n",
        "for elem in cadena:\n",
        "    if elem =='(':\n",
        "        pila.push('*')\n",
        "    elif elem == ')':\n",
        "        pila.pop()\n",
        "    else:\n",
        "        pass\n",
        "if pila.peek() == '#':\n",
        "    print(\"La expresion esta balanceada en parentesis\")\n",
        "else:\n",
        "    print(\"La expresion no esta balanceada\")"
      ],
      "execution_count": null,
      "outputs": []
    }
  ]
}