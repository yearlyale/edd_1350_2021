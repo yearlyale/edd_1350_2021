{
  "nbformat": 4,
  "nbformat_minor": 0,
  "metadata": {
    "colab": {
      "name": "2octubre1358.ipynb",
      "provenance": [],
      "private_outputs": true,
      "authorship_tag": "ABX9TyMafcj0mILNYLaqY58Cxopr",
      "include_colab_link": true
    },
    "kernelspec": {
      "name": "python3",
      "display_name": "Python 3"
    }
  },
  "cells": [
    {
      "cell_type": "markdown",
      "metadata": {
        "id": "view-in-github",
        "colab_type": "text"
      },
      "source": [
        "<a href=\"https://colab.research.google.com/github/yearlyale/edd_1350_2021/blob/master/2octubre1358.ipynb\" target=\"_parent\"><img src=\"https://colab.research.google.com/assets/colab-badge.svg\" alt=\"Open In Colab\"/></a>"
      ]
    },
    {
      "cell_type": "markdown",
      "metadata": {
        "id": "iU3UDIts3SUE"
      },
      "source": [
        "#Tipos de datos\n",
        "- string  str\n",
        "- enteros  int\n",
        "- numero flotante  float\n",
        "- Logico  bool\n",
        "- Numero complejo  complex\n",
        "- Listas  list \n",
        "- Tuplas  tuple\n",
        "- Diccionario dict\n",
        "- Conjuntos  set"
      ]
    },
    {
      "cell_type": "code",
      "metadata": {
        "id": "ad1h6oQj4DYG"
      },
      "source": [
        "#string puede emplear \"\" , '' o \"\"\" \"\"\"\n",
        "universidad = \"        universidad    nacional    autonoma de Mexico\"\n",
        "print (universidad)\n",
        "# cuando el string es una sola palabra se usa ''\n",
        "carrera = 'ico'\n",
        "area = \"software\"\n",
        "division = 'Division de las ciencias fisico matematicas'\n",
        "print (carrera,area)\n",
        "print (division)\n",
        "# \"\"\" \"\"\" cuando el string incluye varios renglones\n",
        "\n",
        "frase = \"\"\"\n",
        "\n",
        "Si\n",
        "Funciona\n",
        "No\n",
        "Lo\n",
        "Arregles!!!\n",
        "\n",
        "\"\"\"\n",
        "\n",
        "print (frase)"
      ],
      "execution_count": null,
      "outputs": []
    },
    {
      "cell_type": "code",
      "metadata": {
        "id": "YXdmmWKt5exw"
      },
      "source": [
        "#Mayusculas\n",
        "print (universidad.upper() )\n",
        "print (universidad)\n",
        "#Primeras mayusculas\n",
        "print (universidad.title())\n",
        "#Eliminar espacios\n",
        "universidad = universidad.strip()\n",
        "print (universidad)\n",
        "lista = universidad.split(\" \")\n",
        "print(lista)\n",
        "nueva=\"\"\n",
        "for 1 in lista:\n",
        "  if len(1) > 0:\n",
        "    nueva += 1 + \" \"\n",
        "print(nueva)\n",
        "\n",
        "numeros = \"1,2,34,56,100\"\n",
        "separados = numeros.split(\",\")\n",
        "print(separados)\n",
        "numeros_int= []\n",
        "for num in separados:\n",
        "  numeros_int.append( int(num) )\n",
        "\n",
        "print(numeros_int)\n",
        "print(nueva)\n",
        "print(nueva.index(\"na\"))\n",
        "print(nueva.replace(' ','-'))\n",
        "print(nueva)"
      ],
      "execution_count": null,
      "outputs": []
    },
    {
      "cell_type": "markdown",
      "metadata": {
        "id": "akIudwdx_bWU"
      },
      "source": [
        "# slicing\n",
        "sintaxis \n",
        "[inicio : stop : incremento]\n"
      ]
    },
    {
      "cell_type": "code",
      "metadata": {
        "id": "erhFU1yr_xXQ"
      },
      "source": [
        "# selector de elementos dentro de un string\n",
        "print( nueva [0])\n",
        "nueva = nueva.strip() \n",
        "print( nueva[ len(nueva) -1])\n",
        "print (nueva[-2])\n",
        "\n",
        "# slicing\n",
        "print( nueva[ 12 : 20 : 1 ] )\n",
        "print( nueva[ -6 :  : 1 ] )\n",
        "# mexico al revez con slicing\n",
        "print( nueva [ -1 ])"
      ],
      "execution_count": null,
      "outputs": []
    },
    {
      "cell_type": "markdown",
      "metadata": {
        "id": "oSI26mhxD9yx"
      },
      "source": [
        "# Bool\n",
        "Acepta solo dos valores\n",
        "True bool (1)\n",
        "\n",
        "False  bool (0)"
      ]
    },
    {
      "cell_type": "code",
      "metadata": {
        "id": "urGQJkZyENQY"
      },
      "source": [
        "print(bool(0))\n",
        "print(bool(1234))\n",
        "flag = 0\n",
        "print(bool(flag))\n",
        "print(True)"
      ],
      "execution_count": null,
      "outputs": []
    },
    {
      "cell_type": "markdown",
      "metadata": {
        "id": "eH9gCbwYFL7c"
      },
      "source": [
        "# comentarios\n",
        "\n",
        "para un comentario de una linea se usa #\n",
        "para un comentario multiple linea equivalente a /* */ de java y lenguaje c se utiliza \"\"\" \"\"\""
      ]
    },
    {
      "cell_type": "code",
      "metadata": {
        "id": "uKYw6MMmFdjs"
      },
      "source": [
        "# este es un comentario de una linea\n",
        "\"\"\"\n",
        "\n",
        "Este\n",
        "es un \n",
        "comentario\n",
        "de multiple\n",
        "linea\n",
        "\"\"\"\n"
      ],
      "execution_count": null,
      "outputs": []
    },
    {
      "cell_type": "markdown",
      "metadata": {
        "id": "pKmMxtXsFq42"
      },
      "source": [
        "# funcion print\n",
        "hay cuatro formas de usar print\n",
        "- con comas (,)\n",
        "- con signo + (+)\n",
        "- con la funcion format () de la clase string\n",
        "- con el operador f\"\""
      ]
    },
    {
      "cell_type": "code",
      "metadata": {
        "id": "HvFDsQqcGHvE"
      },
      "source": [
        "# con comas\n",
        "cantidad = 2\n",
        "precio_chetos = 8\n",
        "precio_fanta = 12\n",
        "\n",
        "print(cantidad,precio_chetos,precio_fanta)\n",
        "\n",
        "# con signo + solo opera con strings\n",
        "print(\"hola\"+\"mundo\")\n",
        "print(cantidad+precio_chetos+precio_fanta)\n",
        "print( str(cantidad)+ str(precio_chetos)+ str(precio_fanta))"
      ],
      "execution_count": null,
      "outputs": []
    }
  ]
}