{
  "nbformat": 4,
  "nbformat_minor": 0,
  "metadata": {
    "colab": {
      "name": "Tarea 08.ipynb",
      "private_outputs": true,
      "provenance": [],
      "authorship_tag": "ABX9TyOgoa5s/OdIfju/51C6PzW4",
      "include_colab_link": true
    },
    "kernelspec": {
      "name": "python3",
      "display_name": "Python 3"
    }
  },
  "cells": [
    {
      "cell_type": "markdown",
      "metadata": {
        "id": "view-in-github",
        "colab_type": "text"
      },
      "source": [
        "<a href=\"https://colab.research.google.com/github/yearlyale/edd_1350_2021/blob/master/Tarea_08.ipynb\" target=\"_parent\"><img src=\"https://colab.research.google.com/assets/colab-badge.svg\" alt=\"Open In Colab\"/></a>"
      ]
    },
    {
      "cell_type": "code",
      "metadata": {
        "id": "5BmnBk9rjJl3"
      },
      "source": [
        "class PriorityQueue:\r\n",
        "\tdef __init__(self):\r\n",
        "\t\tself.__data = [[]]\r\n",
        "\t\tself.__size = 0\r\n",
        "\tdef is_empty(self):\r\n",
        "\t\treturn len(self.__data) == 0\r\n",
        "\tdef length(self):\r\n",
        "\t\treturn len(self.__data)\r\n",
        "\tdef enqueue(self,prioridad , elem):\r\n",
        "\t\tif (type(prioridad) is not int) or (prioridad < 0) :\r\n",
        "\t\t\tprint('Fuera de rango')\r\n",
        "\t\telse:\r\n",
        "\t\t\tif prioridad > len(self.__data):\r\n",
        "\t\t\t\tfor i in range(prioridad - len(self.__data)+3):\r\n",
        "\t\t\t\t\tself.__data.append([])\r\n",
        "\t\t\tself.__data[prioridad].append(elem)\r\n",
        "\t\t\tself.__size += 1\r\n",
        "\r\n",
        "\tdef dequeue(self):\r\n",
        "\t\tfor i in self.__data:\r\n",
        "\t\t\tif len(i) > 0:\r\n",
        "\t\t\t\tself.__size -= 1\r\n",
        "\t\t\t\treturn i.pop(0)\r\n",
        "\r\n",
        "\tdef to_string(self):\r\n",
        "\t\tcont= 0\r\n",
        "\t\tfor i in self.__data:\r\n",
        "\t\t\tfor j in i:\r\n",
        "\t\t\t\tif cont == 0:\r\n",
        "\t\t\t\t\tprint(f'|{j}| <--head')\r\n",
        "\t\t\t\telif cont == self.__size-1:\r\n",
        "\t\t\t\t\tprint(f'|{j}| <--tail')\r\n",
        "\t\t\t\telse:\r\n",
        "\t\t\t\t\tprint(f'|{j}|')\r\n",
        "\t\t\t\tcont+=1\r\n",
        "\r\n",
        "\t\tprint('')\r\n",
        "\r\n",
        "barco = PriorityQueue()\r\n",
        "barco.enqueue(4,'Maestre')\r\n",
        "barco.enqueue(2,'Niños')\r\n",
        "barco.enqueue(3,'Mujeres')\r\n",
        "barco.enqueue(1,'Niñas')\r\n",
        "barco.enqueue(3,'Hombres')\r\n",
        "barco.enqueue(5,'Capitán')\r\n",
        "barco.enqueue(4,'Timonel')\r\n",
        "barco.to_string()\r\n",
        "barco.dequeue()\r\n",
        "barco.to_string()\r\n",
        "barco.dequeue()\r\n",
        "barco.to_string()\r\n",
        "barco.dequeue()\r\n",
        "barco.to_string()\r\n",
        "barco.dequeue()\r\n",
        "barco.to_string()\r\n",
        "barco.dequeue()\r\n",
        "barco.to_string()"
      ],
      "execution_count": null,
      "outputs": []
    }
  ]
}