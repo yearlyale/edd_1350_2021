{
  "nbformat": 4,
  "nbformat_minor": 0,
  "metadata": {
    "colab": {
      "name": "Tarea 10.ipynb",
      "private_outputs": true,
      "provenance": [],
      "authorship_tag": "ABX9TyMhVvQdFT4wdGuctusEyhnA",
      "include_colab_link": true
    },
    "kernelspec": {
      "name": "python3",
      "display_name": "Python 3"
    }
  },
  "cells": [
    {
      "cell_type": "markdown",
      "metadata": {
        "id": "view-in-github",
        "colab_type": "text"
      },
      "source": [
        "<a href=\"https://colab.research.google.com/github/yearlyale/edd_1350_2021/blob/master/Tarea_10.ipynb\" target=\"_parent\"><img src=\"https://colab.research.google.com/assets/colab-badge.svg\" alt=\"Open In Colab\"/></a>"
      ]
    },
    {
      "cell_type": "code",
      "metadata": {
        "id": "KzyAZH4ufLwa"
      },
      "source": [
        "def cuenta_atras(num):\r\n",
        "     num -= 1\r\n",
        "     if num > 0:\r\n",
        "         print (num)\r\n",
        "         cuenta_atras(num)\r\n",
        "     else:\r\n",
        "         print (f\"La función ha llegado a su fin\", num)\r\n",
        "\r\n",
        "cuenta_atras (10)"
      ],
      "execution_count": null,
      "outputs": []
    },
    {
      "cell_type": "code",
      "metadata": {
        "id": "p2_WzJDUi4Am"
      },
      "source": [
        "def suma(list):\r\n",
        "  suma = 0\r\n",
        "  for i in range(0,len(list)):\r\n",
        "    suma = suma + list[i]\r\n",
        " \r\n",
        "  return suma\r\n",
        "print(suma([6,3,4,2,10]))"
      ],
      "execution_count": null,
      "outputs": []
    }
  ]
}