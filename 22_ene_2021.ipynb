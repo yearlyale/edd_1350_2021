{
  "nbformat": 4,
  "nbformat_minor": 0,
  "metadata": {
    "colab": {
      "name": "22_ene_2021.ipynb",
      "private_outputs": true,
      "provenance": [],
      "authorship_tag": "ABX9TyO7JGuq+pnLG1fkuCS7zjys",
      "include_colab_link": true
    },
    "kernelspec": {
      "name": "python3",
      "display_name": "Python 3"
    }
  },
  "cells": [
    {
      "cell_type": "markdown",
      "metadata": {
        "id": "view-in-github",
        "colab_type": "text"
      },
      "source": [
        "<a href=\"https://colab.research.google.com/github/yearlyale/edd_1350_2021/blob/master/22_ene_2021.ipynb\" target=\"_parent\"><img src=\"https://colab.research.google.com/assets/colab-badge.svg\" alt=\"Open In Colab\"/></a>"
      ]
    },
    {
      "cell_type": "code",
      "metadata": {
        "id": "9ZtaBqXfHu5U"
      },
      "source": [
        "class NodoArbol:\r\n",
        "  def __init__( self, value, left=None, right=None):\r\n",
        "    self.data = value\r\n",
        "    self.left = left\r\n",
        "    self.right = right"
      ],
      "execution_count": null,
      "outputs": []
    },
    {
      "cell_type": "code",
      "metadata": {
        "id": "0SfYqpWKH0In"
      },
      "source": [
        "class ArbolBinarioBusqueda:\r\n",
        "  def __init__( self ):\r\n",
        "    self.__root = None\r\n",
        "\r\n",
        "  def insert( self, value):\r\n",
        "    if self.__root == None:\r\n",
        "      self.__root = NodoArbol(value)\r\n",
        "    else:\r\n",
        "      self.__insert__( self.__root , value )\r\n",
        "\r\n",
        "  def __insert__(self, nodo, value):#recursividad\r\n",
        "    if nodo.data == value:\r\n",
        "      print(\"El nodo ya existe, no se inserta: \", value)\r\n",
        "    elif value < nodo.data:\r\n",
        "      #ir a la izquierda\r\n",
        "      if nodo.left == None:\r\n",
        "        nodo.left= NodoArbol(value)\r\n",
        "      else:\r\n",
        "        self.__insert__( nodo.left, value )\r\n",
        "\r\n",
        "    else:\r\n",
        "      #ir a la derecha\r\n",
        "      if nodo.right == None:\r\n",
        "        nodo.right= NodoArbol(value)\r\n",
        "      else:\r\n",
        "        self.__insert__( nodo.right, value )\r\n",
        "\r\n",
        "  def transversal( self, format = \"in\"): #in, pos,pre\r\n",
        "   if format==\"in\":\r\n",
        "    self.__recorrido_in( self.__root )\r\n",
        "   elif format == \"pre\":\r\n",
        "    self.__recorrido_pre( self.__root )\r\n",
        "   elif format == \"pos\":\r\n",
        "    self.__recorrido_pos( self.__root )\r\n",
        "   else:\r\n",
        "    print(\"Formato no válido\")\r\n",
        "\r\n",
        "  def __recorrido_in( self, nodo):\r\n",
        "    if nodo == None:\r\n",
        "      #print(\"Caso base\")\r\n",
        "      pass\r\n",
        "    else:\r\n",
        "      self.__recorrido_in( nodo.left)\r\n",
        "      print(nodo.data , end=\",\")\r\n",
        "      self.__recorrido_in( nodo.right )\r\n",
        "\r\n",
        "  def __recorrido_pre( self, nodo):\r\n",
        "    if nodo == None:\r\n",
        "      \r\n",
        "      pass\r\n",
        "    else:\r\n",
        "      print(nodo.data , end=\",\")\r\n",
        "      self.__recorrido_pre( nodo.left)\r\n",
        "      self.__recorrido_pre( nodo.right )\r\n",
        "\r\n",
        "  def __recorrido_pos( self, nodo):\r\n",
        "    if nodo == None:\r\n",
        "      #print(\"Caso base\")\r\n",
        "      pass\r\n",
        "    else:\r\n",
        "      self.__recorrido_pos( nodo.left)\r\n",
        "      self.__recorrido_pos( nodo.right )\r\n",
        "      print(nodo.data , end=\",\")            \r\n",
        "   \r\n",
        "  def search( self, value ): \r\n",
        "    if self.__root == None:\r\n",
        "      print(\"Árbol vacío\")\r\n",
        "    else:\r\n",
        "      return self.__search( self.__root, value )\r\n",
        "\r\n",
        "  def __search( self, nodo, value ):\r\n",
        "    if nodo== None:\r\n",
        "      return None\r\n",
        "    elif nodo.data == value:\r\n",
        "      return nodo\r\n",
        "    elif value < nodo.data:\r\n",
        "      print(\"ir a la izquierda\")\r\n",
        "      return self.__search( nodo.left, value )\r\n",
        "    else:\r\n",
        "      print(\"ir a la derecha\")\r\n",
        "      return self.__search(nodo.right, value)\r\n",
        "\r\n"
      ],
      "execution_count": null,
      "outputs": []
    },
    {
      "cell_type": "code",
      "metadata": {
        "id": "OXvStSAfH6kT"
      },
      "source": [
        "abb = ArbolBinarioBusqueda()\r\n",
        "abb.insert( 50 )\r\n",
        "abb.insert( 30 )\r\n",
        "abb.insert( 60 )\r\n",
        "abb.insert( 35 )\r\n",
        "abb.insert( 89 )\r\n",
        "abb.insert( 70 )\r\n",
        "abb.insert( 1 )\r\n",
        "print(\"Recorrido Inorden:\")\r\n",
        "abb.transversal()\r\n",
        "print(\"\\n\")\r\n",
        "print(\"Recorrido Preorden:\")\r\n",
        "abb.transversal(\"pre\")\r\n",
        "print(\"\\n\")\r\n",
        "print(\"Recorrido Posorden:\")\r\n",
        "abb.transversal(\"pos\")\r\n",
        "\r\n",
        "res = abb.search(70)\r\n",
        "print(f\"El nodo es: { res.data }, hijo izq {res.left} hijo der {res.right}\")"
      ],
      "execution_count": null,
      "outputs": []
    }
  ]
}