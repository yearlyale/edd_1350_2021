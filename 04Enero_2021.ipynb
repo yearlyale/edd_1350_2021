{
  "nbformat": 4,
  "nbformat_minor": 0,
  "metadata": {
    "colab": {
      "name": "04Enero-2021.ipynb",
      "private_outputs": true,
      "provenance": [],
      "authorship_tag": "ABX9TyM3srN3wiF2og9Y6FWN6FFb",
      "include_colab_link": true
    },
    "kernelspec": {
      "name": "python3",
      "display_name": "Python 3"
    }
  },
  "cells": [
    {
      "cell_type": "markdown",
      "metadata": {
        "id": "view-in-github",
        "colab_type": "text"
      },
      "source": [
        "<a href=\"https://colab.research.google.com/github/yearlyale/edd_1350_2021/blob/master/04Enero_2021.ipynb\" target=\"_parent\"><img src=\"https://colab.research.google.com/assets/colab-badge.svg\" alt=\"Open In Colab\"/></a>"
      ]
    },
    {
      "cell_type": "code",
      "metadata": {
        "id": "bx7Jn-JzPrFz"
      },
      "source": [
        "class Queue:\r\n",
        "    def __init__( self ):\r\n",
        "        self.__data = list()\r\n",
        "\r\n",
        "    def is_empty( self ):\r\n",
        "        return len(self.__data) == 0\r\n",
        "\r\n",
        "    def length ( self ):\r\n",
        "        return len(self.__data)\r\n",
        "\r\n",
        "    def enqueue( self , item ):\r\n",
        "        self.__data.append( item )\r\n",
        "\r\n",
        "    def dequeue( self ):\r\n",
        "        if not self.is_empty():\r\n",
        "            return self.__data.pop(0)\r\n",
        "        else:\r\n",
        "            return None\r\n",
        "\r\n",
        "    def to_string( self ):\r\n",
        "        for elem in self.__data:\r\n",
        "            print(f\"| { elem } \" , end=\"\")\r\n",
        "        print(\"|\")\r\n"
      ],
      "execution_count": null,
      "outputs": []
    },
    {
      "cell_type": "code",
      "metadata": {
        "id": "sYfXA3PMR4DZ"
      },
      "source": [
        "cola = Queue()\r\n",
        "cola.enqueue( 10 )\r\n",
        "cola.enqueue( 2 )\r\n",
        "cola.enqueue( 20 )\r\n",
        "cola.enqueue( 110 )\r\n",
        "cola.enqueue( 5 )\r\n",
        "cola.to_string()\r\n",
        "\r\n",
        "#agregar elemento\r\n",
        "cola.enqueue(44)\r\n",
        "cola.to_string()\r\n",
        "\r\n",
        "#sacar elemento\r\n",
        "elem= cola.dequeue()\r\n",
        "print(f\"El elemento es {elem}\")\r\n",
        "cola.to_string()\r\n",
        "\r\n",
        "#sacar un elemento\r\n",
        "elem = cola.dequeue()\r\n",
        "print(f\"El elemento es { elem }\")\r\n",
        "cola.to_string()"
      ],
      "execution_count": null,
      "outputs": []
    },
    {
      "cell_type": "code",
      "metadata": {
        "id": "fAJAIIEjUoyc"
      },
      "source": [
        "c1 = { \"id\" : 1 , \"nombre\":\"Jose\" , \"balance\":2345654.99}\r\n",
        "c2 = { \"id\" : 2 , \"nombre\":\"Maria\" , \"balance\":2323.01}\r\n",
        "c3 = { \"id\" : 3 , \"nombre\":\"Jesus\" , \"balance\":333.55}\r\n",
        "\r\n",
        "queue = Queue()\r\n",
        "queue.enqueue( c1 )\r\n",
        "queue.enqueue( c2 )\r\n",
        "queue.enqueue( c3 )\r\n",
        "queue.to_string()\r\n",
        "\r\n",
        "a_atender = queue.dequeue()\r\n",
        "print(f\"Hola sr {a_atender['nombre'] }, que tramite desea hacer? \")\r\n"
      ],
      "execution_count": null,
      "outputs": []
    }
  ]
}