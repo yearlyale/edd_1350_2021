{
  "nbformat": 4,
  "nbformat_minor": 0,
  "metadata": {
    "colab": {
      "name": "14_ocubre1358.ipynb",
      "provenance": [],
      "private_outputs": true,
      "authorship_tag": "ABX9TyO6s8kC4vgtdk32ymAcinQ0",
      "include_colab_link": true
    },
    "kernelspec": {
      "name": "python3",
      "display_name": "Python 3"
    }
  },
  "cells": [
    {
      "cell_type": "markdown",
      "metadata": {
        "id": "view-in-github",
        "colab_type": "text"
      },
      "source": [
        "<a href=\"https://colab.research.google.com/github/yearlyale/edd_1350_2021/blob/master/14_ocubre1358.ipynb\" target=\"_parent\"><img src=\"https://colab.research.google.com/assets/colab-badge.svg\" alt=\"Open In Colab\"/></a>"
      ]
    },
    {
      "cell_type": "code",
      "metadata": {
        "id": "0fqup3JRpQAC"
      },
      "source": [
        "def calcular ( a, b , c ):\n",
        "    x = a + ( b / c )\n",
        "    return x\n",
        "\n",
        "print(calcular( 5 , 9 , 3))\n",
        "print(calcular( a=5 , c=3 , b=9))\n",
        "\n",
        "def calcular_v2( a=10 , b=20 , c=5):\n",
        "    x = a + ( b / c)\n",
        "    return x \n",
        "\n",
        "print(calcular_v2( c=2 , a=40 , b=8))\n"
      ],
      "execution_count": null,
      "outputs": []
    },
    {
      "cell_type": "markdown",
      "metadata": {
        "id": "uAGVwikfr0dA"
      },
      "source": [
        "# argumentos a funciones por tupla\n",
        "\n",
        "Se envian los argumentos en un conjunto de elementos dentro de una tupla"
      ]
    },
    {
      "cell_type": "code",
      "metadata": {
        "id": "mHnqi6owsAtf"
      },
      "source": [
        "def calculo( *elem ):\n",
        "    print(elem)\n",
        "    x = elem[0] + ( elem[1] / elem[2] )\n",
        "    return x\n",
        "\n",
        "print(calculo(5,9,3,8,8,8,9))\n",
        "\n"
      ],
      "execution_count": null,
      "outputs": []
    },
    {
      "cell_type": "markdown",
      "metadata": {
        "id": "keVXokM1s1fk"
      },
      "source": [
        "#argumentos como diccionario"
      ]
    },
    {
      "cell_type": "code",
      "metadata": {
        "id": "zGO-DV4ts56_"
      },
      "source": [
        "def calculo( **elem ):\n",
        "    print(elem)\n",
        "    x = elem['a'] + ( elem['b'] / elem['c'] )\n",
        "    return x\n",
        "\n",
        "print(calcular(a=5,b=9,c=3))\n"
      ],
      "execution_count": null,
      "outputs": []
    },
    {
      "cell_type": "markdown",
      "metadata": {
        "id": "UPxp25ly2zVt"
      },
      "source": [
        "# archivo \n",
        "- abrirlos\n",
        "    - un str con la ruta el archivo\n",
        "    - dos caracteres: 1 > modo de apertura (r,w) y el 2 formato ( texto o BBinario )\n",
        "- leerlos\n",
        "- modificarlos    "
      ]
    },
    {
      "cell_type": "code",
      "metadata": {
        "id": "naqbwcld3cAX"
      },
      "source": [
        "archivo = open('ejemplo.txt','wt')\n",
        "\n",
        "archivo.write(\"Hola mundo de at\")\n",
        "\n",
        "archivo.close()\n"
      ],
      "execution_count": null,
      "outputs": []
    },
    {
      "cell_type": "code",
      "metadata": {
        "id": "1tFwG1NU5a_-"
      },
      "source": [
        ""
      ],
      "execution_count": null,
      "outputs": []
    }
  ]
}