{
  "nbformat": 4,
  "nbformat_minor": 0,
  "metadata": {
    "colab": {
      "name": "19octubre_1358.ipynb",
      "provenance": [],
      "private_outputs": true,
      "authorship_tag": "ABX9TyNmJzx0bB/XI8dAG4njeAp1",
      "include_colab_link": true
    },
    "kernelspec": {
      "name": "python3",
      "display_name": "Python 3"
    }
  },
  "cells": [
    {
      "cell_type": "markdown",
      "metadata": {
        "id": "view-in-github",
        "colab_type": "text"
      },
      "source": [
        "<a href=\"https://colab.research.google.com/github/yearlyale/edd_1350_2021/blob/master/19octubre_1358.ipynb\" target=\"_parent\"><img src=\"https://colab.research.google.com/assets/colab-badge.svg\" alt=\"Open In Colab\"/></a>"
      ]
    },
    {
      "cell_type": "code",
      "metadata": {
        "id": "5O8MmX3AZqQQ"
      },
      "source": [
        "# read()\n",
        "archivo = open('frutas.txt','rt')\n",
        "\n",
        "data = archivo.read()\n",
        "print(data.upper())\n",
        "\n",
        "archivo.close()\n",
        "\n"
      ],
      "execution_count": null,
      "outputs": []
    },
    {
      "cell_type": "code",
      "metadata": {
        "id": "yIipV-lMc3bJ"
      },
      "source": [
        "#readline()\n",
        "archivo = open('frutas.txt','rt')\n",
        "data = archivo.readline()\n",
        "while data !=\"\":\n",
        "    print(data)\n",
        "    data = archivo.readline()\n",
        "\n",
        "archivo.close()"
      ],
      "execution_count": null,
      "outputs": []
    },
    {
      "cell_type": "code",
      "metadata": {
        "id": "Zw2ITAowgDls"
      },
      "source": [
        "#readlines()\n",
        "\n",
        "archivo = open('frutas.txt','rt')\n",
        "\n",
        "data = archivo.readlines()\n",
        "print(data)\n",
        "\n",
        "frutas=[]\n",
        "\n",
        "for linea in data:\n",
        "    frutas.append(linea.strip())\n",
        "\n",
        "frutas_final = []\n",
        "for elem in frutas:\n",
        "    for fruta in elem.split(','):\n",
        "        frutas_final.append(fruta.strip())\n",
        "\n",
        "\n",
        "print(frutas_final)\n",
        "archivo.close()"
      ],
      "execution_count": null,
      "outputs": []
    },
    {
      "cell_type": "markdown",
      "metadata": {
        "id": "6lGy6htqlDhe"
      },
      "source": [
        "# POO con python\n",
        "- clase\n",
        "- objetos\n",
        "- atributos\n",
        "- metodos \n",
        "- metodo constructor\n",
        "- encapsulamiento (publico y privado)\n",
        "- herencia\n",
        "\n",
        "Declarar clases en python se usa la palabra reservada Class"
      ]
    },
    {
      "cell_type": "code",
      "metadata": {
        "id": "kUF3wF2klqSS"
      },
      "source": [
        "class Persona:\n",
        "    def __init__( self , edd , est ):\n",
        "        self.edad = edd \n",
        "        self.estatura = est\n",
        "\n",
        "    def to_string( self ):\n",
        "        print(f\"Edad={self.edad}, est={self.estatura}\")\n",
        "\n",
        "per1 = Persona(23,1.78)\n",
        "per1.to_string()\n",
        "per1.__estatura = 10.4\n",
        "per1.to_string()\n",
        "\n",
        "# siguiente clase seguir con encapsulamiento"
      ],
      "execution_count": null,
      "outputs": []
    }
  ]
}