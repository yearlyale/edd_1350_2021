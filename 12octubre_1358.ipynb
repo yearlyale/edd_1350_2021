{
  "nbformat": 4,
  "nbformat_minor": 0,
  "metadata": {
    "colab": {
      "name": "12octubre_1358.ipynb",
      "provenance": [],
      "private_outputs": true,
      "authorship_tag": "ABX9TyNuu66FSNTUrXBYih67Rv3s",
      "include_colab_link": true
    },
    "kernelspec": {
      "name": "python3",
      "display_name": "Python 3"
    }
  },
  "cells": [
    {
      "cell_type": "markdown",
      "metadata": {
        "id": "view-in-github",
        "colab_type": "text"
      },
      "source": [
        "<a href=\"https://colab.research.google.com/github/yearlyale/edd_1350_2021/blob/master/12octubre_1358.ipynb\" target=\"_parent\"><img src=\"https://colab.research.google.com/assets/colab-badge.svg\" alt=\"Open In Colab\"/></a>"
      ]
    },
    {
      "cell_type": "code",
      "metadata": {
        "id": "-CecKUxfWFHi"
      },
      "source": [
        "#diccionarios comtinuacion \n",
        "cliente_banco = { \n",
        "    \"id\":1,\n",
        "    \"nombres\" :[\"Juan\",\"Antonio\"],\n",
        "    \"paterno\":\"Garcia\",\n",
        "    \"materno\":\"Perez\",\n",
        "    \"telefonos\":{\n",
        "        \"casa\":5566778899,\n",
        "        \"celular\":5511223344,\n",
        "        \"trabajo\":5566443322,\n",
        "    },\n",
        "    \"activo\": True,\n",
        "    \"balance\":234567.89,\n",
        "    \"tarjetas\": ({\"tipo\":\"debito\",\"saldo\":12000,},{\"tipo\":\"credito\",\"saldo\":3500.0})\n",
        "}\n",
        "\n",
        "print(cliente_banco)\n",
        "#cliente_banco[\"balance\"] = cliente_banco[\"balance\"] -1000.89\n",
        "cliente_banco[\"balance\"] -= 1000.89\n",
        "print(cliente_banco)\n",
        "cliente_banco[\"tarjetas\"] =({\"tipo\":\"debito\",\"saldo\":12000,},\n",
        "                            {\"tipo\":\"credito\",\"saldo\":3500.0},\n",
        "                            {\"tipo\":\"credito\",\"nivel\":\"oro\",\"saldo\":50000} )\n",
        "print(cliente_banco)\n",
        "cliente_banco[\"direccion\"]={\"calle\":\"rancho seco\",\"num\":8}\n",
        "print(cliente_banco)\n",
        "cliente_banco.pop(\"tarjetas\")\n",
        "print(cliente_banco)\n"
      ],
      "execution_count": null,
      "outputs": []
    },
    {
      "cell_type": "code",
      "metadata": {
        "id": "RnI4JPBUdfj8"
      },
      "source": [
        "llaves = cliente_banco.keys()\n",
        "print(llaves)\n",
        "print(type(llaves))\n",
        "for x in llaves:\n",
        "  print(x)\n",
        "\n",
        "valores = cliente_banco.values()\n",
        "for v in valores:\n",
        "  print(v)\n",
        "\n",
        "pares = cliente_banco.items()\n",
        "print(pares) \n",
        "\n",
        "for elem in pares:\n",
        "  print(f\" {elem[0]} = {elem[1]} \")"
      ],
      "execution_count": null,
      "outputs": []
    },
    {
      "cell_type": "code",
      "metadata": {
        "id": "9yCSZSW7hEe3"
      },
      "source": [
        "fruta = {\"nombre\":\"manzana\",\"color\":\"rojo\",\"estado\":\"chihuahua\"}\n",
        "otras_caracteristicas = {\"vitaminas\":\"D\"}\n",
        "fruta.update(otras_caracteristicas)\n",
        "print(fruta)\n"
      ],
      "execution_count": null,
      "outputs": []
    },
    {
      "cell_type": "markdown",
      "metadata": {
        "id": "yxIjnMEeiPR7"
      },
      "source": [
        "# Funciones\n",
        "- recibe de 0 a n argumentos de entrada\n",
        "- regresa solo un valor, aunque este valor sea None.\n",
        "- tiene un nombre unico en el contexto.\n",
        "- se pueden hacer dos cosas con funciones\n",
        "  - definirla\n",
        "  - llamarla"
      ]
    },
    {
      "cell_type": "code",
      "metadata": {
        "id": "1r7zHFzVi-Y6"
      },
      "source": [
        "def suma(a,b):\n",
        "    return a+b\n",
        "\n",
        "def saludar():\n",
        "    print(\"Hola que tal\")\n",
        "    return None\n",
        "\n",
        "x = 10\n",
        "y = 20\n",
        "c = suma(x,y)\n",
        "\n",
        "print(c)\n",
        "saludar()"
      ],
      "execution_count": null,
      "outputs": []
    },
    {
      "cell_type": "markdown",
      "metadata": {
        "id": "9u4o0dNQk10S"
      },
      "source": [
        "# None y las funciones\n",
        "\n",
        "aprovechar el uso de none en paso de parametros"
      ]
    },
    {
      "cell_type": "code",
      "metadata": {
        "id": "1tZdP7vKk_j1"
      },
      "source": [
        "def calcular (base,veces):\n",
        "    if base != None:\n",
        "        resultado = base * veces\n",
        "    else:\n",
        "        resultado = \"Desconocido\"\n",
        "    return resultado        \n",
        "\n",
        "\n",
        "print(calcular (4,3))\n",
        "print(calcular(None,3))"
      ],
      "execution_count": null,
      "outputs": []
    }
  ]
}