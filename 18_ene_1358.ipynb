{
  "nbformat": 4,
  "nbformat_minor": 0,
  "metadata": {
    "colab": {
      "name": "18_ene_1358.ipynb",
      "private_outputs": true,
      "provenance": [],
      "authorship_tag": "ABX9TyOOItKhbwIlDf6TBPoK7Au2",
      "include_colab_link": true
    },
    "kernelspec": {
      "name": "python3",
      "display_name": "Python 3"
    }
  },
  "cells": [
    {
      "cell_type": "markdown",
      "metadata": {
        "id": "view-in-github",
        "colab_type": "text"
      },
      "source": [
        "<a href=\"https://colab.research.google.com/github/yearlyale/edd_1350_2021/blob/master/18_ene_1358.ipynb\" target=\"_parent\"><img src=\"https://colab.research.google.com/assets/colab-badge.svg\" alt=\"Open In Colab\"/></a>"
      ]
    },
    {
      "cell_type": "code",
      "metadata": {
        "id": "F5Mu6_VSR810"
      },
      "source": [
        "class NodoArbol:\r\n",
        "    def __init__( self , value , left=None , right=None ):\r\n",
        "        self.data = value\r\n",
        "        self.left = left\r\n",
        "        self.right = right\r\n"
      ],
      "execution_count": null,
      "outputs": []
    },
    {
      "cell_type": "code",
      "metadata": {
        "id": "CcUW4Z97S7Eu"
      },
      "source": [
        "class ArbolBinarioBusqueda:\r\n",
        "    def __init__( self ):\r\n",
        "        self.__root= None\r\n",
        "    def insert( self , value ):\r\n",
        "        if self.__root == None:\r\n",
        "            self.__root = NodoArbol( value )\r\n",
        "        else:\r\n",
        "            self.__insert__( self.__root , value )\r\n",
        "\r\n",
        "    def __insert__( self , nodo , value ): #recursividad\r\n",
        "        if nodo.data == value : \r\n",
        "            print(\"El nodo ya existe, no se inserta: \" , value)\r\n",
        "        elif value < nodo.data:\r\n",
        "            # ir a la izq\r\n",
        "            if nodo.left == None:\r\n",
        "                nodo.left == NodoArbol( value )\r\n",
        "            else:\r\n",
        "                self.__insert__( nodo.left , value , None , None)\r\n",
        "\r\n",
        "        else: \r\n",
        "            # ir a la der\r\n",
        "            if nodo.right == None:\r\n",
        "                nodo.right = NodoArbol( value , None , None )\r\n",
        "            else:\r\n",
        "                self.__insert__( nodo. right , value )"
      ],
      "execution_count": null,
      "outputs": []
    },
    {
      "cell_type": "code",
      "metadata": {
        "id": "5DFwpCBTdQw0"
      },
      "source": [
        "abb = ArbolBinarioBusqueda()\r\n",
        "abb.insert( 40 )\r\n",
        "abb.insert( 40 )"
      ],
      "execution_count": null,
      "outputs": []
    }
  ]
}