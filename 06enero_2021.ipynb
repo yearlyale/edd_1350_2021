{
  "nbformat": 4,
  "nbformat_minor": 0,
  "metadata": {
    "colab": {
      "name": "06enero_2021.ipynb",
      "private_outputs": true,
      "provenance": [],
      "authorship_tag": "ABX9TyOjh9rDquIatqrb3cjDN1dp",
      "include_colab_link": true
    },
    "kernelspec": {
      "name": "python3",
      "display_name": "Python 3"
    }
  },
  "cells": [
    {
      "cell_type": "markdown",
      "metadata": {
        "id": "view-in-github",
        "colab_type": "text"
      },
      "source": [
        "<a href=\"https://colab.research.google.com/github/yearlyale/edd_1350_2021/blob/master/06enero_2021.ipynb\" target=\"_parent\"><img src=\"https://colab.research.google.com/assets/colab-badge.svg\" alt=\"Open In Colab\"/></a>"
      ]
    },
    {
      "cell_type": "code",
      "metadata": {
        "id": "4REW523LtXKU"
      },
      "source": [
        "class BoundedPriorityQueue:\r\n",
        "  def __init__(self, niveles):\r\n",
        "    self.__data = [ Queue() for x in range(niveles) ]\r\n",
        "\r\n",
        "  def is_empty(self):\r\n",
        "    return self.__size == 0\r\n",
        "\r\n",
        "  def length(self):\r\n",
        "    return self.__size\r\n",
        "\r\n",
        "  def enqueue(self,prioridad, elem):\r\n",
        "    self.__data[prioridad].enqueue(elem)"
      ],
      "execution_count": null,
      "outputs": []
    }
  ]
}