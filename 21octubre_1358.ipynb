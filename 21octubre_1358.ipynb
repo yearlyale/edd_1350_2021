{
  "nbformat": 4,
  "nbformat_minor": 0,
  "metadata": {
    "colab": {
      "name": "21octubre_1358.ipynb",
      "provenance": [],
      "private_outputs": true,
      "authorship_tag": "ABX9TyM6nHj9Or17aaWppLvBOsrI",
      "include_colab_link": true
    },
    "kernelspec": {
      "name": "python3",
      "display_name": "Python 3"
    }
  },
  "cells": [
    {
      "cell_type": "markdown",
      "metadata": {
        "id": "view-in-github",
        "colab_type": "text"
      },
      "source": [
        "<a href=\"https://colab.research.google.com/github/yearlyale/edd_1350_2021/blob/master/21octubre_1358.ipynb\" target=\"_parent\"><img src=\"https://colab.research.google.com/assets/colab-badge.svg\" alt=\"Open In Colab\"/></a>"
      ]
    },
    {
      "cell_type": "code",
      "metadata": {
        "id": "CaP7J9NGtFSc"
      },
      "source": [
        "# Encapsulamiento tradicional way\n",
        "\n",
        "class Smartphone:\n",
        "    def __init__( self , m ):\n",
        "        self.__marca = m\n",
        "\n",
        "    def set_marca( self , m ):\n",
        "        self.__marca = m\n",
        "    \n",
        "    def get_marca( self ):\n",
        "        return self.__marca\n",
        "    \n",
        "    def to_string( self ):\n",
        "        return \"La marca del telefono es:\" + self.__marca\n",
        "sp1 = Smartphone( \" Huawei\" )\n",
        "print( sp1.to_string() )\n",
        "sp1.__marca = \"Iphone X\"\n",
        "print( sp1.to_string() )\n",
        "sp1.set_marca(\" Samsung\")\n",
        "print( sp1.to_string() )\n",
        "print( sp1.get_marca() )"
      ],
      "execution_count": null,
      "outputs": []
    },
    {
      "cell_type": "code",
      "metadata": {
        "id": "XLZ2TPm7xe4u"
      },
      "source": [
        "# estilo Python 3\n",
        "class SmartPhone:\n",
        "    def __init__( self , m ):\n",
        "        self.marca = m  #llamando metodo get\n",
        "\n",
        "    @property\n",
        "    def marca( self ): # define metodo get y delcara self.__marca\n",
        "        print(\"En el metodo get de marca\")\n",
        "        return self.__marca\n",
        "    \n",
        "    @marca.setter\n",
        "    def marca( self , m ):\n",
        "        if m in [\"Lenovo\",\"Sony\",\"Motorola\",\"iPhone SE\",\"Huawei\",\"Xiaomi\"]:\n",
        "            self.__marca = m\n",
        "        else:\n",
        "            print(\"Asignacion no valida\")\n",
        "\n",
        "    def to_string( self ):\n",
        "        return \"Marca = \" + self.marca\n",
        "\n",
        "sp2 = SmartPhone(\"Xiaomi\")\n",
        "print( sp2.to_string() )\n",
        "sp2.__marca = \"iPhone SE\"\n",
        "print( sp2.to_string() )\n",
        "sp2.marca = \"Motorola\" #invocacion del metodo set\n",
        "print( sp2.to_string() )\n",
        "\n",
        "print(sp2.marca) #invocacion del metodo get\n",
        "\n",
        "sp2.marca = \"12345678\"\n",
        "print ( sp2.to_string() )"
      ],
      "execution_count": null,
      "outputs": []
    },
    {
      "cell_type": "code",
      "metadata": {
        "id": "c-T-R0Jw5Kod"
      },
      "source": [
        "class TelefonoTrabajo(SmartPhone):\n",
        "    def __init__( self , m):\n",
        "        self.marca = m\n",
        "\n",
        "sp3 = TelefonoTrabajo( \"Motorola\" )\n",
        "print(dir(sp3))\n",
        "print(sp3.to_string())\n"
      ],
      "execution_count": null,
      "outputs": []
    }
  ]
}