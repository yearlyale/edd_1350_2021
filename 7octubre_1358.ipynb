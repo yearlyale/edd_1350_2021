{
  "nbformat": 4,
  "nbformat_minor": 0,
  "metadata": {
    "colab": {
      "name": "7octubre_1358.ipynb",
      "provenance": [],
      "private_outputs": true,
      "authorship_tag": "ABX9TyMRvXAxDqnHuvAo0fhv4e3b",
      "include_colab_link": true
    },
    "kernelspec": {
      "name": "python3",
      "display_name": "Python 3"
    }
  },
  "cells": [
    {
      "cell_type": "markdown",
      "metadata": {
        "id": "view-in-github",
        "colab_type": "text"
      },
      "source": [
        "<a href=\"https://colab.research.google.com/github/yearlyale/edd_1350_2021/blob/master/7octubre_1358.ipynb\" target=\"_parent\"><img src=\"https://colab.research.google.com/assets/colab-badge.svg\" alt=\"Open In Colab\"/></a>"
      ]
    },
    {
      "cell_type": "code",
      "metadata": {
        "id": "WxQTBHABm-r6"
      },
      "source": [
        "autos = [\"Mazda\",\"honda\",\"Akura\",\"Ford\",\"VW\"]\n",
        "telefonos = [\"iPhone\",\"Huawei Mate 30\", \"Xiaomi S10\",\"Alcatel t1000\"]\n",
        "sistemas_operativos = [ \"Windows\", \"Linux\" , \"Android\" , \"iOS\" ,\"MacOs\" ]\n",
        "procesadores = [[\"Intel\",3.1,True],[\"AMD\",2.7,False],[\"Motorola\",1.1,False]]\n",
        "\n",
        "lista_nd = [autos,telefonos,sistemas_operativos,procesadores]\n",
        "print(lista_nd)\n",
        "print(lista_nd[2][3])\n",
        "print(lista_nd[1][1][3:6])\n",
        "print(lista_nd[3][1][1])\n",
        "print(lista_nd[3][2][0][2:6])\n",
        "print(lista_nd[3][0][0][3:0:-1])\n",
        "\n",
        "# concatenar listas\n",
        "colores = [\"rojo\",\"verde\",\"azul\",\"negro\"]\n",
        "flores = [\"margarita\",\"rosa\"]\n",
        "\n",
        "nueva = colores + flores\n",
        "print(nueva)\n",
        "print(colores)\n",
        "print(flores)\n",
        "\n",
        "# Con extend\n",
        "\n",
        "colores.extend(flores)\n",
        "print(colores)\n",
        "\n",
        "# unpacking de listas\n",
        "\n",
        "print(\"unpacking\")\n",
        "datos_personales = [\"Jose\",\"Perez\",\"Juarez\",22,1.67,True]\n",
        "nombre = datos_personales[0]\n",
        "print(nombre)\n",
        "nombre,paterno,materno,edad,estatura,fuma = datos_personales\n",
        "print(nombre,paterno,materno,edad,estatura,fuma)\n"
      ],
      "execution_count": null,
      "outputs": []
    },
    {
      "cell_type": "code",
      "metadata": {
        "id": "k2Vn9c8EuZ-S"
      },
      "source": [
        "#Tuplas\n",
        "bd = ('127.0.0.1','root','toor','1345')\n",
        "print(f\"usuario de la base de datos es { bd[1]} \")\n",
        "print(bd[1:3])\n"
      ],
      "execution_count": null,
      "outputs": []
    },
    {
      "cell_type": "code",
      "metadata": {
        "id": "qdflDxSWwT01"
      },
      "source": [
        "#diccionarios\n",
        "alumno = {'nombre':'Juan','edad':22,'carrera':'ICO'}\n",
        "print(alumno)\n",
        "print(alumno['edad'])\n",
        "alumno = {\n",
        "    'nombre':'Juan',\n",
        "    'edad':22,\n",
        "    'carrera':'ICO',\n",
        "    'direccion': {'calle':'Bosques de africa',\n",
        "                  'numero':33,\n",
        "                  'delegacion':'Nezahualcoyotl',\n",
        "                  'estado':15,\n",
        "                  'nombre_estado':'Estado de Mexico'\n",
        "                  }\n",
        "    \n",
        "}\n",
        "print(alumno)\n",
        "print(alumno['direccion'])\n",
        "print(alumno['direccion']['delegacion'])\n",
        "print(alumno['direccion']['delegacion'][3:7])\n",
        "print(alumno['direccion']['delegacion'][3:7].upper() )\n",
        "alumno['edad'] = 35\n",
        "print(alumno)\n",
        "alumno['promedio'] = 9.9\n",
        "print(alumno)\n",
        "alumno['direccion']['cp'] = 17170\n",
        "print(alumno['direccion'])\n",
        "alumno['materia']={'nombre':'CyP','calificacion':10}\n",
        "print(alumno)\n",
        "cliente = { \"id\" : 1 , \"nombre\" : \"Carlos Slim\"}\n",
        "print(cliente)"
      ],
      "execution_count": null,
      "outputs": []
    }
  ]
}