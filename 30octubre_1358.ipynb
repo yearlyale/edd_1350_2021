{
  "nbformat": 4,
  "nbformat_minor": 0,
  "metadata": {
    "colab": {
      "name": "30octubre_1358.ipynb",
      "provenance": [],
      "private_outputs": true,
      "authorship_tag": "ABX9TyPR2MVZ9IkzO5M2jDrGLHwF",
      "include_colab_link": true
    },
    "kernelspec": {
      "name": "python3",
      "display_name": "Python 3"
    }
  },
  "cells": [
    {
      "cell_type": "markdown",
      "metadata": {
        "id": "view-in-github",
        "colab_type": "text"
      },
      "source": [
        "<a href=\"https://colab.research.google.com/github/yearlyale/edd_1350_2021/blob/master/30octubre_1358.ipynb\" target=\"_parent\"><img src=\"https://colab.research.google.com/assets/colab-badge.svg\" alt=\"Open In Colab\"/></a>"
      ]
    },
    {
      "cell_type": "code",
      "metadata": {
        "id": "7WqC_GjXaDVg"
      },
      "source": [
        "\"\"\"\n",
        "Array\n",
        "\"\"\"\n",
        "class Array:\n",
        "    def __init__( self , tam ):\n",
        "        self.__datos = [ 0 for x in range(tam)]\n",
        "\n",
        "    def get_item( self , index ):\n",
        "        dato = 0\n",
        "        if index >= 0 and index < len(self.__datos):\n",
        "            dato = self.__datos[index]\n",
        "        else:\n",
        "            print(\"Error en el indice\")\n",
        "        return dato\n",
        "\n",
        "    def set_item( self , dato , index ):\n",
        "        if index >= 0 and index < len(self.__datos):\n",
        "            self.__datos[index] = dato\n",
        "        else:\n",
        "            print(\"Error en el indice\")\n",
        "\n",
        "    def get_length(self):\n",
        "\t\t    return len(self.__datos)\n",
        "    \n",
        "    def clear( self , dato ):\n",
        "        self.__datos = [dato for x in rango (self.__tam)]\n",
        "\n",
        "    def __iter__( self ):\n",
        "        return _getIterator( self.__datos)\n",
        "\n",
        "class _getIterator:\n",
        "    def __init__(self , arreglo ):\n",
        "        self.__arreglo = arreglo\n",
        "        self.__indice_actual = 0 \n",
        "\n",
        "    def __iter__( self ):\n",
        "        return self\n",
        "    \n",
        "    def __next__( self ):\n",
        "        if self.__indice_actual < len(self.__arreglo):\n",
        "            dato = self.__arreglo[self.__indice_actual]\n",
        "            self.__indice_actual += 1\n",
        "            return dato\n",
        "        else:\n",
        "            raise StopIteration\n",
        "\n",
        "        \n",
        "\n",
        "\n",
        "\"\"\"\n",
        "mi_arreglo = Array(10)\n",
        "print(mi_arreglo.get_item( 20 ))\n",
        "mi_arreglo.set_item( 2345 , 3)\n",
        "print(mi_arreglo.get_item( 3 ))\n",
        "\n",
        "for x in mi_arreglo.getIterator():\n",
        "    print(x)\n",
        "\"\"\""
      ],
      "execution_count": null,
      "outputs": []
    },
    {
      "cell_type": "code",
      "metadata": {
        "id": "NJ5TnPHZaP1i"
      },
      "source": [
        "class Empleado:\n",
        "    def __init__( self , num , nom , pat , mat , he , sb , anio ):\n",
        "        self.__num_trabajador = num\n",
        "        self.__nombres = nom\n",
        "        self.__paterno = pat\n",
        "        self.__materno = mat\n",
        "        self.__horas_extra = he\n",
        "        self.__anio_ingreso = __anio\n",
        "\n",
        "    # get y set\n",
        "    # metodos de uso general : calculos\n",
        "    # to_string()\n",
        "        "
      ],
      "execution_count": null,
      "outputs": []
    },
    {
      "cell_type": "code",
      "metadata": {
        "id": "r2Tebk1faS6e"
      },
      "source": [
        "\"\"\"\n",
        "ADT sueldos ----> encapsula datos de nomina\n",
        "\n",
        "cargar_datos ( ruta_archivo )\n",
        "reportar_mayor_ant ()\n",
        "reportar_menor_ant ()\n",
        "\n",
        "\n",
        "\"\"\"\n",
        "\n",
        "class Sueldos:\n",
        "    def __init__( self ):\n",
        "        self.__data = None\n",
        "\n",
        "    def cargar_datos( self , ruta_archivo ):\n",
        "        archivo = open( ruta_archivo , \"rt\", encoding='latin1' )\n",
        "        lineas = archivo.readlines()\n",
        "        archivo.close()\n",
        "        self.__data = Array( len(lineas) -1 )\n",
        "    \n",
        "        for linea in lineas:\n",
        "            print(linea)\n",
        "            # separar campos\n",
        "            # crear un objeto Empleado\n",
        "            # cargar ese objeto a self.__data.set_item()\n",
        "\n",
        "ejemplo = Sueldos()\n",
        "ejemplo.cargar_datos('junio.dat')"
      ],
      "execution_count": null,
      "outputs": []
    },
    {
      "cell_type": "markdown",
      "metadata": {
        "id": "AaeLzEdRaqMz"
      },
      "source": [
        ""
      ]
    }
  ]
}